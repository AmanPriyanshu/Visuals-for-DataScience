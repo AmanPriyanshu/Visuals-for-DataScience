{
  "nbformat": 4,
  "nbformat_minor": 0,
  "metadata": {
    "colab": {
      "name": "Visualisaing-classification-errors.ipynb",
      "provenance": [],
      "collapsed_sections": [],
      "authorship_tag": "ABX9TyN9RoWLip2Jl+UjLzEjSzxd",
      "include_colab_link": true
    },
    "kernelspec": {
      "name": "python3",
      "display_name": "Python 3"
    }
  },
  "cells": [
    {
      "cell_type": "markdown",
      "metadata": {
        "id": "view-in-github",
        "colab_type": "text"
      },
      "source": [
        "<a href=\"https://colab.research.google.com/github/AmanPriyanshu/Visuals-for-DataScience/blob/master/Visualisaing_classification_errors.ipynb\" target=\"_parent\"><img src=\"https://colab.research.google.com/assets/colab-badge.svg\" alt=\"Open In Colab\"/></a>"
      ]
    },
    {
      "cell_type": "code",
      "metadata": {
        "id": "n0T14NZKjCaI",
        "colab_type": "code",
        "colab": {}
      },
      "source": [
        "import numpy as np\n",
        "import random\n",
        "import tensorflow as tf"
      ],
      "execution_count": 15,
      "outputs": []
    },
    {
      "cell_type": "markdown",
      "metadata": {
        "id": "7mtEkhQMjruu",
        "colab_type": "text"
      },
      "source": [
        "## CREATING A DATASET:"
      ]
    },
    {
      "cell_type": "code",
      "metadata": {
        "id": "rWidvPb9jt9l",
        "colab_type": "code",
        "colab": {}
      },
      "source": [
        "x = np.array([3 * np.random.random_sample((3,)) - 3 for _ in range(2500)] + [3 * np.random.random_sample((3,)) + 3 for _ in range(2500)] + [6 * np.random.random_sample((3,)) - 2.75 for _ in range(2500)] + [-5 * np.random.random_sample((3,)) - 2.8 for _ in range(2500)])\n",
        "y = np.array([0 for _ in range(2500)] + [1 for _ in range(2500)] + [2 for _ in range(2500)] + [3 for _ in range(2500)])"
      ],
      "execution_count": 16,
      "outputs": []
    },
    {
      "cell_type": "code",
      "metadata": {
        "id": "cPXUVyZ1kptP",
        "colab_type": "code",
        "colab": {
          "base_uri": "https://localhost:8080/",
          "height": 34
        },
        "outputId": "a14693d4-2032-48cc-f215-3d1514b42bd4"
      },
      "source": [
        "print(x.shape, y.shape)"
      ],
      "execution_count": 17,
      "outputs": [
        {
          "output_type": "stream",
          "text": [
            "(10000, 3) (10000,)\n"
          ],
          "name": "stdout"
        }
      ]
    },
    {
      "cell_type": "markdown",
      "metadata": {
        "id": "0SF6M26glMvt",
        "colab_type": "text"
      },
      "source": [
        "## SHUFFLING:"
      ]
    },
    {
      "cell_type": "code",
      "metadata": {
        "id": "PSbpz8palOUW",
        "colab_type": "code",
        "colab": {}
      },
      "source": [
        "indexes = np.arange(x.shape[0])\n",
        "np.random.shuffle(indexes)\n",
        "\n",
        "x = x[indexes]\n",
        "y = y[indexes]"
      ],
      "execution_count": 18,
      "outputs": []
    },
    {
      "cell_type": "markdown",
      "metadata": {
        "id": "6yza0NHaksnW",
        "colab_type": "text"
      },
      "source": [
        "## CREATING A BASIC MODEL:"
      ]
    },
    {
      "cell_type": "code",
      "metadata": {
        "id": "kGQ5hnVrjZXG",
        "colab_type": "code",
        "colab": {}
      },
      "source": [
        "model = tf.keras.models.Sequential([\n",
        "    tf.keras.layers.Dense(4, activation='relu'),\n",
        "    tf.keras.layers.Dense(3, activation='relu'),\n",
        "    tf.keras.layers.Dense(4, activation='softmax')\n",
        "])"
      ],
      "execution_count": 19,
      "outputs": []
    },
    {
      "cell_type": "code",
      "metadata": {
        "id": "Vg-VHkSjlBfW",
        "colab_type": "code",
        "colab": {}
      },
      "source": [
        "model.compile(optimizer='adam', loss='sparse_categorical_crossentropy', metrics=['acc'])"
      ],
      "execution_count": 20,
      "outputs": []
    },
    {
      "cell_type": "code",
      "metadata": {
        "id": "05CVqHfHlJoK",
        "colab_type": "code",
        "colab": {
          "base_uri": "https://localhost:8080/",
          "height": 874
        },
        "outputId": "5bc39303-5561-47b7-a3f5-62ea9cbbe594"
      },
      "source": [
        "model.fit(x, y, epochs=25, validation_split=0.2)"
      ],
      "execution_count": 21,
      "outputs": [
        {
          "output_type": "stream",
          "text": [
            "Epoch 1/25\n",
            "250/250 [==============================] - 0s 2ms/step - loss: 1.4426 - acc: 0.3330 - val_loss: 1.2281 - val_acc: 0.3325\n",
            "Epoch 2/25\n",
            "250/250 [==============================] - 0s 1ms/step - loss: 1.0841 - acc: 0.5440 - val_loss: 0.9505 - val_acc: 0.6535\n",
            "Epoch 3/25\n",
            "250/250 [==============================] - 0s 1ms/step - loss: 0.8832 - acc: 0.7785 - val_loss: 0.7989 - val_acc: 0.8575\n",
            "Epoch 4/25\n",
            "250/250 [==============================] - 0s 1ms/step - loss: 0.7478 - acc: 0.8391 - val_loss: 0.6743 - val_acc: 0.8645\n",
            "Epoch 5/25\n",
            "250/250 [==============================] - 0s 1ms/step - loss: 0.6328 - acc: 0.8619 - val_loss: 0.5657 - val_acc: 0.8945\n",
            "Epoch 6/25\n",
            "250/250 [==============================] - 0s 1ms/step - loss: 0.5332 - acc: 0.8844 - val_loss: 0.4727 - val_acc: 0.9125\n",
            "Epoch 7/25\n",
            "250/250 [==============================] - 0s 1ms/step - loss: 0.4484 - acc: 0.9051 - val_loss: 0.3964 - val_acc: 0.9285\n",
            "Epoch 8/25\n",
            "250/250 [==============================] - 0s 1ms/step - loss: 0.3796 - acc: 0.9215 - val_loss: 0.3327 - val_acc: 0.9365\n",
            "Epoch 9/25\n",
            "250/250 [==============================] - 0s 1ms/step - loss: 0.3236 - acc: 0.9317 - val_loss: 0.2839 - val_acc: 0.9430\n",
            "Epoch 10/25\n",
            "250/250 [==============================] - 0s 1ms/step - loss: 0.2802 - acc: 0.9371 - val_loss: 0.2444 - val_acc: 0.9490\n",
            "Epoch 11/25\n",
            "250/250 [==============================] - 0s 1ms/step - loss: 0.2490 - acc: 0.9420 - val_loss: 0.2165 - val_acc: 0.9555\n",
            "Epoch 12/25\n",
            "250/250 [==============================] - 0s 1ms/step - loss: 0.2265 - acc: 0.9434 - val_loss: 0.1964 - val_acc: 0.9550\n",
            "Epoch 13/25\n",
            "250/250 [==============================] - 0s 1ms/step - loss: 0.2103 - acc: 0.9455 - val_loss: 0.1817 - val_acc: 0.9575\n",
            "Epoch 14/25\n",
            "250/250 [==============================] - 0s 1ms/step - loss: 0.1973 - acc: 0.9463 - val_loss: 0.1696 - val_acc: 0.9590\n",
            "Epoch 15/25\n",
            "250/250 [==============================] - 0s 1ms/step - loss: 0.1868 - acc: 0.9474 - val_loss: 0.1602 - val_acc: 0.9600\n",
            "Epoch 16/25\n",
            "250/250 [==============================] - 0s 1ms/step - loss: 0.1792 - acc: 0.9469 - val_loss: 0.1539 - val_acc: 0.9620\n",
            "Epoch 17/25\n",
            "250/250 [==============================] - 0s 1ms/step - loss: 0.1727 - acc: 0.9481 - val_loss: 0.1458 - val_acc: 0.9600\n",
            "Epoch 18/25\n",
            "250/250 [==============================] - 0s 1ms/step - loss: 0.1674 - acc: 0.9479 - val_loss: 0.1412 - val_acc: 0.9615\n",
            "Epoch 19/25\n",
            "250/250 [==============================] - 0s 1ms/step - loss: 0.1624 - acc: 0.9495 - val_loss: 0.1367 - val_acc: 0.9630\n",
            "Epoch 20/25\n",
            "250/250 [==============================] - 0s 1ms/step - loss: 0.1589 - acc: 0.9492 - val_loss: 0.1332 - val_acc: 0.9610\n",
            "Epoch 21/25\n",
            "250/250 [==============================] - 0s 1ms/step - loss: 0.1553 - acc: 0.9491 - val_loss: 0.1299 - val_acc: 0.9640\n",
            "Epoch 22/25\n",
            "250/250 [==============================] - 0s 1ms/step - loss: 0.1523 - acc: 0.9505 - val_loss: 0.1261 - val_acc: 0.9620\n",
            "Epoch 23/25\n",
            "250/250 [==============================] - 0s 1ms/step - loss: 0.1501 - acc: 0.9496 - val_loss: 0.1232 - val_acc: 0.9640\n",
            "Epoch 24/25\n",
            "250/250 [==============================] - 0s 1ms/step - loss: 0.1470 - acc: 0.9511 - val_loss: 0.1217 - val_acc: 0.9655\n",
            "Epoch 25/25\n",
            "250/250 [==============================] - 0s 1ms/step - loss: 0.1450 - acc: 0.9514 - val_loss: 0.1221 - val_acc: 0.9625\n"
          ],
          "name": "stdout"
        },
        {
          "output_type": "execute_result",
          "data": {
            "text/plain": [
              "<tensorflow.python.keras.callbacks.History at 0x7fd870d55f60>"
            ]
          },
          "metadata": {
            "tags": []
          },
          "execution_count": 21
        }
      ]
    },
    {
      "cell_type": "markdown",
      "metadata": {
        "id": "-62ld-4oliB3",
        "colab_type": "text"
      },
      "source": [
        "## WELL PRETTY EFFICIENT:\n",
        "\n",
        "### Let's take a look at it"
      ]
    },
    {
      "cell_type": "code",
      "metadata": {
        "id": "fPUcKj6BmKnd",
        "colab_type": "code",
        "colab": {}
      },
      "source": [
        "classes = 4"
      ],
      "execution_count": 22,
      "outputs": []
    },
    {
      "cell_type": "code",
      "metadata": {
        "id": "jtp5fXGMmNgl",
        "colab_type": "code",
        "colab": {}
      },
      "source": [
        "y_pred = model.predict(x)\n",
        "y_pred = np.array([np.argmax(i) for i in y_pred])"
      ],
      "execution_count": 23,
      "outputs": []
    },
    {
      "cell_type": "code",
      "metadata": {
        "id": "E8xKPpXhmBgn",
        "colab_type": "code",
        "colab": {
          "base_uri": "https://localhost:8080/",
          "height": 84
        },
        "outputId": "fc62914e-775c-4419-dff2-c11f85053c62"
      },
      "source": [
        "groups = {}\n",
        "for i in range(classes):\n",
        "  groups.update({i:[]})\n",
        "\n",
        "for i,j in zip(y, y_pred):\n",
        "    groups[i].append(j)\n",
        "    \n",
        "p_error = {}\n",
        "for i in range(classes):\n",
        "  p_error.update({i:[]})\n",
        "\n",
        "for key, item in groups.items():\n",
        "    for i in range(4):\n",
        "        p_error[key].append(item.count(i))\n",
        "    total = sum(p_error[key])\n",
        "    p_error[key] = [round(i/total, 5) for i in p_error[key]]\n",
        "\n",
        "_ = [print(key,':',item) for key, item in p_error.items()]"
      ],
      "execution_count": 24,
      "outputs": [
        {
          "output_type": "stream",
          "text": [
            "0 : [0.9424, 0.0, 0.0576, 0.0]\n",
            "1 : [0.0, 1.0, 0.0, 0.0]\n",
            "2 : [0.1296, 0.0024, 0.868, 0.0]\n",
            "3 : [0.0012, 0.0, 0.0, 0.9988]\n"
          ],
          "name": "stdout"
        }
      ]
    },
    {
      "cell_type": "markdown",
      "metadata": {
        "id": "ARbBOYXNl7wO",
        "colab_type": "text"
      },
      "source": [
        "### Directed Error Maps"
      ]
    },
    {
      "cell_type": "code",
      "metadata": {
        "id": "kF2HkEA3leoU",
        "colab_type": "code",
        "colab": {
          "base_uri": "https://localhost:8080/",
          "height": 264
        },
        "outputId": "26daf528-ac3a-4da9-a8f1-2f200431d6bc"
      },
      "source": [
        "import networkx as nx \n",
        "from matplotlib import pyplot as plt\n",
        "\n",
        "def error_graph(p_error):\n",
        "    \n",
        "    G = nx.DiGraph() \n",
        "    for i in range(classes):\n",
        "        G.add_node(i)\n",
        "    \n",
        "    for key, item in p_error.items():\n",
        "        for i,x in enumerate(item):\n",
        "            x = round(x, 3)\n",
        "            if i!=key and x>0.01:\n",
        "                G.add_edge(key, i, weight=x)\n",
        "    \n",
        "    plt.figure(figsize =(4, 4))\n",
        "    plt.title(\"Error Graph\")\n",
        "    nx.draw_networkx(G, node_color ='green')\n",
        "    \n",
        "error_graph(p_error)"
      ],
      "execution_count": 25,
      "outputs": [
        {
          "output_type": "display_data",
          "data": {
            "image/png": "[encoded data removed]",
            "text/plain": [
              "<Figure size 288x288 with 1 Axes>"
            ]
          },
          "metadata": {
            "tags": []
          }
        }
      ]
    }
  ]
}