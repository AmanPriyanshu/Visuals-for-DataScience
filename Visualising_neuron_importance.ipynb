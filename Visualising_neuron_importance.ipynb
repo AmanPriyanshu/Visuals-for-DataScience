{
  "nbformat": 4,
  "nbformat_minor": 0,
  "metadata": {
    "colab": {
      "name": "Visualisaing-neuron-importance.ipynb",
      "provenance": [],
      "collapsed_sections": [],
      "authorship_tag": "ABX9TyN+JxuD2mLPXQMAF2BFHmfs",
      "include_colab_link": true
    },
    "kernelspec": {
      "name": "python3",
      "display_name": "Python 3"
    }
  },
  "cells": [
    {
      "cell_type": "markdown",
      "metadata": {
        "id": "view-in-github",
        "colab_type": "text"
      },
      "source": [
        "<a href=\"https://colab.research.google.com/github/AmanPriyanshu/1800/blob/master/Visualisaing_neuron_importance.ipynb\" target=\"_parent\"><img src=\"https://colab.research.google.com/assets/colab-badge.svg\" alt=\"Open In Colab\"/></a>"
      ]
    },
    {
      "cell_type": "code",
      "metadata": {
        "id": "n0T14NZKjCaI",
        "colab_type": "code",
        "colab": {}
      },
      "source": [
        "import numpy as np\n",
        "import random\n",
        "import tensorflow as tf"
      ],
      "execution_count": 1,
      "outputs": []
    },
    {
      "cell_type": "markdown",
      "metadata": {
        "id": "7mtEkhQMjruu",
        "colab_type": "text"
      },
      "source": [
        "## CREATING A DATASET:"
      ]
    },
    {
      "cell_type": "code",
      "metadata": {
        "id": "rWidvPb9jt9l",
        "colab_type": "code",
        "colab": {}
      },
      "source": [
        "x = np.array([3 * np.random.random_sample((3,)) - 3 for _ in range(2500)] + [3 * np.random.random_sample((3,)) + 3 for _ in range(2500)] + [6 * np.random.random_sample((3,)) - 2.75 for _ in range(2500)] + [-5 * np.random.random_sample((3,)) - 2.8 for _ in range(2500)])\n",
        "y = np.array([0 for _ in range(2500)] + [1 for _ in range(2500)] + [2 for _ in range(2500)] + [3 for _ in range(2500)])"
      ],
      "execution_count": 2,
      "outputs": []
    },
    {
      "cell_type": "code",
      "metadata": {
        "id": "cPXUVyZ1kptP",
        "colab_type": "code",
        "colab": {
          "base_uri": "https://localhost:8080/",
          "height": 34
        },
        "outputId": "5888bf88-686e-4f97-d244-6977e7910b23"
      },
      "source": [
        "print(x.shape, y.shape)"
      ],
      "execution_count": 3,
      "outputs": [
        {
          "output_type": "stream",
          "text": [
            "(10000, 3) (10000,)\n"
          ],
          "name": "stdout"
        }
      ]
    },
    {
      "cell_type": "markdown",
      "metadata": {
        "id": "0SF6M26glMvt",
        "colab_type": "text"
      },
      "source": [
        "## SHUFFLING:"
      ]
    },
    {
      "cell_type": "code",
      "metadata": {
        "id": "PSbpz8palOUW",
        "colab_type": "code",
        "colab": {}
      },
      "source": [
        "indexes = np.arange(x.shape[0])\n",
        "np.random.shuffle(indexes)\n",
        "\n",
        "x = x[indexes]\n",
        "y = y[indexes]"
      ],
      "execution_count": 4,
      "outputs": []
    },
    {
      "cell_type": "markdown",
      "metadata": {
        "id": "6yza0NHaksnW",
        "colab_type": "text"
      },
      "source": [
        "## CREATING A BASIC MODEL:"
      ]
    },
    {
      "cell_type": "code",
      "metadata": {
        "id": "kGQ5hnVrjZXG",
        "colab_type": "code",
        "colab": {}
      },
      "source": [
        "model = tf.keras.models.Sequential([\n",
        "    tf.keras.layers.Dense(4, activation='relu'),\n",
        "    tf.keras.layers.Dense(3, activation='relu'),\n",
        "    tf.keras.layers.Dense(4, activation='softmax')\n",
        "])"
      ],
      "execution_count": 5,
      "outputs": []
    },
    {
      "cell_type": "code",
      "metadata": {
        "id": "Vg-VHkSjlBfW",
        "colab_type": "code",
        "colab": {}
      },
      "source": [
        "model.compile(optimizer='adam', loss='sparse_categorical_crossentropy', metrics=['acc'])"
      ],
      "execution_count": 6,
      "outputs": []
    },
    {
      "cell_type": "code",
      "metadata": {
        "id": "05CVqHfHlJoK",
        "colab_type": "code",
        "colab": {
          "base_uri": "https://localhost:8080/",
          "height": 874
        },
        "outputId": "59f331d7-fa21-4423-9ddf-6ee96fbf77c1"
      },
      "source": [
        "model.fit(x, y, epochs=25, validation_split=0.2)"
      ],
      "execution_count": 7,
      "outputs": [
        {
          "output_type": "stream",
          "text": [
            "Epoch 1/25\n",
            "250/250 [==============================] - 0s 2ms/step - loss: 1.8679 - acc: 0.3170 - val_loss: 1.2678 - val_acc: 0.5110\n",
            "Epoch 2/25\n",
            "250/250 [==============================] - 0s 1ms/step - loss: 1.1352 - acc: 0.5426 - val_loss: 1.0390 - val_acc: 0.5865\n",
            "Epoch 3/25\n",
            "250/250 [==============================] - 0s 1ms/step - loss: 0.9799 - acc: 0.6047 - val_loss: 0.8978 - val_acc: 0.6195\n",
            "Epoch 4/25\n",
            "250/250 [==============================] - 0s 1ms/step - loss: 0.8515 - acc: 0.6446 - val_loss: 0.8000 - val_acc: 0.6780\n",
            "Epoch 5/25\n",
            "250/250 [==============================] - 0s 1ms/step - loss: 0.7547 - acc: 0.6871 - val_loss: 0.7059 - val_acc: 0.7085\n",
            "Epoch 6/25\n",
            "250/250 [==============================] - 0s 1ms/step - loss: 0.6623 - acc: 0.7194 - val_loss: 0.6112 - val_acc: 0.7585\n",
            "Epoch 7/25\n",
            "250/250 [==============================] - 0s 1ms/step - loss: 0.5641 - acc: 0.7778 - val_loss: 0.5073 - val_acc: 0.8105\n",
            "Epoch 8/25\n",
            "250/250 [==============================] - 0s 1ms/step - loss: 0.4786 - acc: 0.8027 - val_loss: 0.4479 - val_acc: 0.8140\n",
            "Epoch 9/25\n",
            "250/250 [==============================] - 0s 1ms/step - loss: 0.4286 - acc: 0.8163 - val_loss: 0.4056 - val_acc: 0.8380\n",
            "Epoch 10/25\n",
            "250/250 [==============================] - 0s 1ms/step - loss: 0.3907 - acc: 0.8434 - val_loss: 0.3705 - val_acc: 0.8595\n",
            "Epoch 11/25\n",
            "250/250 [==============================] - 0s 1ms/step - loss: 0.3585 - acc: 0.8695 - val_loss: 0.3397 - val_acc: 0.8860\n",
            "Epoch 12/25\n",
            "250/250 [==============================] - 0s 1ms/step - loss: 0.3300 - acc: 0.8949 - val_loss: 0.3120 - val_acc: 0.9010\n",
            "Epoch 13/25\n",
            "250/250 [==============================] - 0s 1ms/step - loss: 0.3042 - acc: 0.9135 - val_loss: 0.2868 - val_acc: 0.9160\n",
            "Epoch 14/25\n",
            "250/250 [==============================] - 0s 1ms/step - loss: 0.2806 - acc: 0.9236 - val_loss: 0.2656 - val_acc: 0.9220\n",
            "Epoch 15/25\n",
            "250/250 [==============================] - 0s 1ms/step - loss: 0.2601 - acc: 0.9291 - val_loss: 0.2476 - val_acc: 0.9265\n",
            "Epoch 16/25\n",
            "250/250 [==============================] - 0s 1ms/step - loss: 0.2421 - acc: 0.9299 - val_loss: 0.2320 - val_acc: 0.9270\n",
            "Epoch 17/25\n",
            "250/250 [==============================] - 0s 1ms/step - loss: 0.2263 - acc: 0.9315 - val_loss: 0.2156 - val_acc: 0.9285\n",
            "Epoch 18/25\n",
            "250/250 [==============================] - 0s 1ms/step - loss: 0.2123 - acc: 0.9308 - val_loss: 0.2008 - val_acc: 0.9345\n",
            "Epoch 19/25\n",
            "250/250 [==============================] - 0s 1ms/step - loss: 0.1997 - acc: 0.9320 - val_loss: 0.1887 - val_acc: 0.9335\n",
            "Epoch 20/25\n",
            "250/250 [==============================] - 0s 1ms/step - loss: 0.1891 - acc: 0.9337 - val_loss: 0.1796 - val_acc: 0.9375\n",
            "Epoch 21/25\n",
            "250/250 [==============================] - 0s 1ms/step - loss: 0.1765 - acc: 0.9354 - val_loss: 0.1660 - val_acc: 0.9355\n",
            "Epoch 22/25\n",
            "250/250 [==============================] - 0s 1ms/step - loss: 0.1654 - acc: 0.9376 - val_loss: 0.1580 - val_acc: 0.9350\n",
            "Epoch 23/25\n",
            "250/250 [==============================] - 0s 1ms/step - loss: 0.1584 - acc: 0.9398 - val_loss: 0.1527 - val_acc: 0.9390\n",
            "Epoch 24/25\n",
            "250/250 [==============================] - 0s 1ms/step - loss: 0.1539 - acc: 0.9400 - val_loss: 0.1500 - val_acc: 0.9395\n",
            "Epoch 25/25\n",
            "250/250 [==============================] - 0s 1ms/step - loss: 0.1515 - acc: 0.9396 - val_loss: 0.1474 - val_acc: 0.9395\n"
          ],
          "name": "stdout"
        },
        {
          "output_type": "execute_result",
          "data": {
            "text/plain": [
              "<tensorflow.python.keras.callbacks.History at 0x7fd87be161d0>"
            ]
          },
          "metadata": {
            "tags": []
          },
          "execution_count": 7
        }
      ]
    },
    {
      "cell_type": "markdown",
      "metadata": {
        "id": "-62ld-4oliB3",
        "colab_type": "text"
      },
      "source": [
        "## WELL PRETTY EFFICIENT:\n",
        "\n",
        "### Let's take a look at it"
      ]
    },
    {
      "cell_type": "code",
      "metadata": {
        "id": "fPUcKj6BmKnd",
        "colab_type": "code",
        "colab": {}
      },
      "source": [
        "classes = 4"
      ],
      "execution_count": 8,
      "outputs": []
    },
    {
      "cell_type": "code",
      "metadata": {
        "id": "jtp5fXGMmNgl",
        "colab_type": "code",
        "colab": {}
      },
      "source": [
        "y_pred = model.predict(x)\n",
        "y_pred = np.array([np.argmax(i) for i in y_pred])"
      ],
      "execution_count": 9,
      "outputs": []
    },
    {
      "cell_type": "code",
      "metadata": {
        "id": "E8xKPpXhmBgn",
        "colab_type": "code",
        "colab": {
          "base_uri": "https://localhost:8080/",
          "height": 84
        },
        "outputId": "6d353887-e240-47b8-d3c4-d40ab0d66f39"
      },
      "source": [
        "groups = {}\n",
        "for i in range(classes):\n",
        "  groups.update({i:[]})\n",
        "\n",
        "for i,j in zip(y, y_pred):\n",
        "    groups[i].append(j)\n",
        "    \n",
        "p_error = {}\n",
        "for i in range(classes):\n",
        "  p_error.update({i:[]})\n",
        "\n",
        "for key, item in groups.items():\n",
        "    for i in range(4):\n",
        "        p_error[key].append(item.count(i))\n",
        "    total = sum(p_error[key])\n",
        "    p_error[key] = [round(i/total, 5) for i in p_error[key]]\n",
        "\n",
        "_ = [print(key,':',item) for key, item in p_error.items()]"
      ],
      "execution_count": 10,
      "outputs": [
        {
          "output_type": "stream",
          "text": [
            "0 : [0.938, 0.0, 0.062, 0.0]\n",
            "1 : [0.0, 1.0, 0.0, 0.0]\n",
            "2 : [0.1784, 0.0012, 0.8204, 0.0]\n",
            "3 : [0.0, 0.0, 0.0, 1.0]\n"
          ],
          "name": "stdout"
        }
      ]
    },
    {
      "cell_type": "markdown",
      "metadata": {
        "id": "ARbBOYXNl7wO",
        "colab_type": "text"
      },
      "source": [
        "### Directed Error Maps"
      ]
    },
    {
      "cell_type": "code",
      "metadata": {
        "id": "kF2HkEA3leoU",
        "colab_type": "code",
        "colab": {
          "base_uri": "https://localhost:8080/",
          "height": 248
        },
        "outputId": "2ef0b0eb-7caf-4257-c066-660f46fbbe2b"
      },
      "source": [
        "import networkx as nx \n",
        "from matplotlib import pyplot as plt\n",
        "\n",
        "def error_graph(p_error):\n",
        "    \n",
        "    G = nx.DiGraph() \n",
        "    for i in range(classes):\n",
        "        G.add_node(i)\n",
        "    \n",
        "    for key, item in p_error.items():\n",
        "        for i,x in enumerate(item):\n",
        "            x = round(x, 3)\n",
        "            if i!=key and x>0.01:\n",
        "                G.add_edge(key, i, weight=x)\n",
        "    \n",
        "    plt.figure(figsize =(4, 4))\n",
        "    plt.title(\"Error Graph\")\n",
        "    nx.draw_networkx(G, node_color ='green')\n",
        "    \n",
        "error_graph(p_error)"
      ],
      "execution_count": 11,
      "outputs": [
        {
          "output_type": "display_data",
          "data": {
            "image/png": "[encoded data removed]",
            "text/plain": [
              "<Figure size 288x288 with 1 Axes>"
            ]
          },
          "metadata": {
            "tags": []
          }
        }
      ]
    },
    {
      "cell_type": "markdown",
      "metadata": {
        "id": "rI4VYNvdq2v7",
        "colab_type": "text"
      },
      "source": [
        "## Now, let's start building our thing:\n",
        "\n",
        "Defining a class, which takes test case and the model as input."
      ]
    },
    {
      "cell_type": "code",
      "metadata": {
        "id": "H0bivU00pyR2",
        "colab_type": "code",
        "colab": {}
      },
      "source": [
        "import tensorflow as tf\n",
        "import numpy as np\n",
        "import matplotlib.pyplot as plt\n",
        "from tqdm import tqdm\n",
        "\n",
        "class NeuronImportance:\n",
        "  def __init__(self, x, y, model, loss):\n",
        "    self.x_test = x\n",
        "    self.y_test = y\n",
        "    self.model = model\n",
        "    self.loss = loss\n",
        "    self.original_weights = model.get_weights()\n",
        "    self.initial_weights = None\n",
        "    self.active_weights = None\n",
        "    self.size_list = None\n",
        "    self.losses = None\n",
        "    self.t = None\n",
        "    self.epoch = 1\n",
        "    self.neuron_importance = []\n",
        "\n",
        "  def flattener(self, weights):\n",
        "    weights_flat = []\n",
        "    for w in weights:\n",
        "      weights_flat += [i for i in w.flatten()]\n",
        "    weights_flat = np.array(weights_flat)\n",
        "    return weights_flat\n",
        "\n",
        "\n",
        "  def reshaper(self, weights):\n",
        "    count = 0\n",
        "    self.active_weights = []\n",
        "    for shape in self.size_list:\n",
        "      neurons = np.prod(np.array([i for i in shape]))\n",
        "      w = weights[count:count+neurons]\n",
        "      w = np.reshape(w, shape)\n",
        "      self.active_weights.append(w)\n",
        "      count += neurons\n",
        "    self.active_weights = np.array(self.active_weights)\n",
        "\n",
        "\n",
        "  def single_iteration(self):\n",
        "    og_loss = self.model.evaluate(self.x_test, self.y_test, verbose=0)[0]\n",
        "    model_initial = tf.keras.models.clone_model(self.model)\n",
        "    model_initial.compile(loss=self.loss)\n",
        "    self.initial_weights = model_initial.get_weights()\n",
        "    total_neurons = sum([i.flatten().shape[0] for i in model_initial.get_weights()])\n",
        "    self.t = tqdm(total=total_neurons)\n",
        "    self.size_list = [i.shape for i in self.initial_weights]\n",
        "       \n",
        "    original_weights_flat = self.flattener(self.original_weights)\n",
        "    initial_weights_flat = self.flattener(self.initial_weights)\n",
        "\n",
        "    ## Looping through each weight:\n",
        "\n",
        "    self.losses = []\n",
        "    \n",
        "    for index in range(initial_weights_flat.shape[0]):\n",
        "      active_weights_flat = np.concatenate((original_weights_flat[:index] , np.array([initial_weights_flat[index]]) , original_weights_flat[index+1:]))\n",
        "      self.reshaper(active_weights_flat)\n",
        "      model_initial.set_weights(self.active_weights)\n",
        "      active_loss = model_initial.evaluate(self.x_test, self.y_test, verbose=0)\n",
        "      self.losses.append(active_loss)\n",
        "      self.t.update(1)\n",
        "      self.t.set_postfix({'Previous Loss': round(self.losses[-1], 3), 'Original Loss': og_loss, 'Random Iteration': self.epoch})\n",
        "      self.t.refresh()\n",
        "    self.t.close()\n",
        "    self.losses = np.array(self.losses)\n",
        "    self.losses = np.abs(self.losses - og_loss)\n",
        "    self.neuron_importance.append(self.losses)\n",
        "    self.epoch += 1\n",
        "\n",
        "  def draw_2d(self, data, layer, one_d=False):\n",
        "    plt.clf()\n",
        "    heatmap = plt.pcolor(data)\n",
        "    for y in range(data.shape[0]):\n",
        "      for x in range(data.shape[1]):\n",
        "          plt.text(x + 0.5, y + 0.5, '%.4f' % data[round(y, 3), round(x,3)],\n",
        "                  horizontalalignment='center',\n",
        "                  verticalalignment='center',\n",
        "                  )\n",
        "    plt.colorbar(heatmap)\n",
        "    plt.ylim([0, data.shape[0]])\n",
        "    if one_d:\n",
        "      plt.rcParams[\"figure.figsize\"] = (6,6)\n",
        "    else:\n",
        "      plt.rcParams[\"figure.figsize\"] = (6,1)\n",
        "    if layer%2 == 0:\n",
        "      plt.title(\"WEIGHTS of LAYER \"+ str(layer//2+1))\n",
        "    else:\n",
        "      plt.title(\"BIAS of LAYER \"+ str(layer//2+1))\n",
        "    plt.show()\n",
        "\n",
        "  def evaluate(self, epochs=5, plot=False):\n",
        "    for _ in range(epochs):\n",
        "      self.single_iteration()\n",
        "\n",
        "    self.neuron_importance = np.array(self.neuron_importance)\n",
        "    self.neuron_importance = np.sum(self.neuron_importance, axis=0)\n",
        "    self.neuron_importance = 1 - self.neuron_importance/np.sum(self.neuron_importance)\n",
        "    self.reshaper(self.neuron_importance)\n",
        "    self.neuron_importance = self.active_weights\n",
        "\n",
        "  def plot(self):\n",
        "    if True:\n",
        "      for layer, map in enumerate(self.neuron_importance):\n",
        "        if np.array(map.shape).shape[0] == 2:\n",
        "          self.draw_2d(map, layer)\n",
        "        else:\n",
        "          self.draw_2d(np.array([map]), layer, one_d=True)"
      ],
      "execution_count": 12,
      "outputs": []
    },
    {
      "cell_type": "code",
      "metadata": {
        "id": "NBtq6vB6sOmX",
        "colab_type": "code",
        "colab": {
          "base_uri": "https://localhost:8080/",
          "height": 185
        },
        "outputId": "29435f69-32fc-4c35-d5b9-f6cb13d6d817"
      },
      "source": [
        "ni = NeuronImportance(x, y, model, loss='sparse_categorical_crossentropy')\n",
        "ni.evaluate(epochs=10, plot=True)"
      ],
      "execution_count": 13,
      "outputs": [
        {
          "output_type": "stream",
          "text": [
            "100%|██████████| 47/47 [00:10<00:00,  4.44it/s, Previous Loss=0.196, Original Loss=0.149, Random Iteration=1]\n",
            "100%|██████████| 47/47 [00:10<00:00,  4.43it/s, Previous Loss=0.196, Original Loss=0.149, Random Iteration=2]\n",
            "100%|██████████| 47/47 [00:10<00:00,  4.44it/s, Previous Loss=0.196, Original Loss=0.149, Random Iteration=3]\n",
            "100%|██████████| 47/47 [00:10<00:00,  4.43it/s, Previous Loss=0.196, Original Loss=0.149, Random Iteration=4]\n",
            "100%|██████████| 47/47 [00:10<00:00,  4.40it/s, Previous Loss=0.196, Original Loss=0.149, Random Iteration=5]\n",
            "100%|██████████| 47/47 [00:10<00:00,  4.29it/s, Previous Loss=0.196, Original Loss=0.149, Random Iteration=6]\n",
            "100%|██████████| 47/47 [00:10<00:00,  4.37it/s, Previous Loss=0.196, Original Loss=0.149, Random Iteration=7]\n",
            "100%|██████████| 47/47 [00:10<00:00,  4.36it/s, Previous Loss=0.196, Original Loss=0.149, Random Iteration=8]\n",
            "100%|██████████| 47/47 [00:10<00:00,  4.38it/s, Previous Loss=0.196, Original Loss=0.149, Random Iteration=9]\n",
            "100%|██████████| 47/47 [00:10<00:00,  4.31it/s, Previous Loss=0.196, Original Loss=0.149, Random Iteration=10]\n"
          ],
          "name": "stderr"
        }
      ]
    },
    {
      "cell_type": "code",
      "metadata": {
        "id": "jtDfrtroDgqW",
        "colab_type": "code",
        "colab": {
          "base_uri": "https://localhost:8080/",
          "height": 1000
        },
        "outputId": "ad1bd8d2-7d15-4a9b-bcaf-1c9173abc33d"
      },
      "source": [
        "ni.plot()"
      ],
      "execution_count": 14,
      "outputs": [
        {
          "output_type": "display_data",
          "data": {
            "image/png": "[encoded data removed]",
            "text/plain": [
              "<Figure size 432x288 with 2 Axes>"
            ]
          },
          "metadata": {
            "tags": [],
            "needs_background": "light"
          }
        },
        {
          "output_type": "display_data",
          "data": {
            "image/png": "[encoded data removed]",
            "text/plain": [
              "<Figure size 432x72 with 2 Axes>"
            ]
          },
          "metadata": {
            "tags": [],
            "needs_background": "light"
          }
        },
        {
          "output_type": "display_data",
          "data": {
            "image/png": "[encoded data removed]",
            "text/plain": [
              "<Figure size 432x432 with 2 Axes>"
            ]
          },
          "metadata": {
            "tags": [],
            "needs_background": "light"
          }
        },
        {
          "output_type": "display_data",
          "data": {
            "image/png": "[encoded data removed]",
            "text/plain": [
              "<Figure size 432x72 with 2 Axes>"
            ]
          },
          "metadata": {
            "tags": [],
            "needs_background": "light"
          }
        },
        {
          "output_type": "display_data",
          "data": {
            "image/png": "[encoded data removed]",
            "text/plain": [
              "<Figure size 432x432 with 2 Axes>"
            ]
          },
          "metadata": {
            "tags": [],
            "needs_background": "light"
          }
        },
        {
          "output_type": "display_data",
          "data": {
            "image/png": "[encoded data removed]",
            "text/plain": [
              "<Figure size 432x72 with 2 Axes>"
            ]
          },
          "metadata": {
            "tags": [],
            "needs_background": "light"
          }
        }
      ]
    }
  ]
}